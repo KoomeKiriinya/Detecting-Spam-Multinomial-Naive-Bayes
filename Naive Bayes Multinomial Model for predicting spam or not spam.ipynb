{
 "cells": [
  {
   "cell_type": "code",
   "execution_count": 264,
   "metadata": {},
   "outputs": [],
   "source": [
    "# import necessary libraries\n",
    "import pandas as pd\n",
    "import matplotlib.pyplot as plt\n",
    "from matplotlib.pylab import rcParams\n",
    "rcParams['figure.figsize']= 18,8\n",
    "import numpy as np\n",
    "from sklearn.model_selection import train_test_split\n",
    "from sklearn.preprocessing import LabelEncoder\n",
    "from sklearn.naive_bayes import MultinomialNB \n",
    "from sklearn.feature_extraction.text import TfidfVectorizer\n"
   ]
  },
  {
   "cell_type": "code",
   "execution_count": 248,
   "metadata": {},
   "outputs": [],
   "source": [
    "# read the CSV\n",
    "spamDS = pd.read_csv(\"spam.csv\", encoding ='latin-1')\n"
   ]
  },
  {
   "cell_type": "code",
   "execution_count": 249,
   "metadata": {},
   "outputs": [],
   "source": [
    "# Feature selection and column renamine\n",
    "spamDS= spamDS[['v1','v2']]\n",
    "spamDS.columns=['Classification','Text']"
   ]
  },
  {
   "cell_type": "code",
   "execution_count": 252,
   "metadata": {},
   "outputs": [],
   "source": [
    "# selecting required feature and label\n",
    "data_X = spamDS['Text']\n",
    "data_Y = spamDS['Classification']"
   ]
  },
  {
   "cell_type": "code",
   "execution_count": 253,
   "metadata": {},
   "outputs": [],
   "source": [
    "# splitting into train and test set, splits by default ratio(test_size=0.25)\n",
    "X_train,X_test,y_train,y_test = train_test_split(data_X,data_Y)"
   ]
  },
  {
   "cell_type": "code",
   "execution_count": 265,
   "metadata": {},
   "outputs": [
    {
     "name": "stdout",
     "output_type": "stream",
     "text": [
      "0.955491744436468\n"
     ]
    },
    {
     "data": {
      "text/plain": [
       "[array(['at', 'can', 'do', 'mag', 'meeting', 'point', 'some', 'this',\n",
       "        'you'], dtype='<U32')]"
      ]
     },
     "execution_count": 265,
     "metadata": {},
     "output_type": "execute_result"
    }
   ],
   "source": [
    "# use label encoder to convert the categorical classification column to numerical\n",
    "le = LabelEncoder()\n",
    "enc_y = le.fit_transform(y_train)\n",
    "# creat an instance of TfidfVectorize.\n",
    "tf = TfidfVectorizer()\n",
    "# Vectorize our text\n",
    "xtrain_v = tf.fit_transform(X_train).toarray()\n",
    "# create instance of naive bayes Multinomial\n",
    "nb = MultinomialNB()\n",
    "# fit the train data to our model\n",
    "nb.fit(xtrain_v,enc_y)\n",
    "# convert our test data to necessary format as done in the train data\n",
    "enc_yt =le.fit_transform(y_test)\n",
    "xtest_v =tf.transform(X_test).toarray()\n",
    "# print out the accuracy of the model\n",
    "print(nb.score(xtest_v,enc_yt))"
   ]
  },
  {
   "cell_type": "code",
   "execution_count": null,
   "metadata": {},
   "outputs": [],
   "source": []
  }
 ],
 "metadata": {
  "kernelspec": {
   "display_name": "Python 3",
   "language": "python",
   "name": "python3"
  },
  "language_info": {
   "codemirror_mode": {
    "name": "ipython",
    "version": 3
   },
   "file_extension": ".py",
   "mimetype": "text/x-python",
   "name": "python",
   "nbconvert_exporter": "python",
   "pygments_lexer": "ipython3",
   "version": "3.5.6"
  }
 },
 "nbformat": 4,
 "nbformat_minor": 2
}
